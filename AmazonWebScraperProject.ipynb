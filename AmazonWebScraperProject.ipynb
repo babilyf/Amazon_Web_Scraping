{
 "cells": [
  {
   "cell_type": "markdown",
   "id": "26c94e12-860b-45ae-aab3-ccba1b7b80d6",
   "metadata": {},
   "source": [
    "## Amazon Web Scraper Project"
   ]
  },
  {
   "cell_type": "code",
   "execution_count": 44,
   "id": "7930c6f8-e9df-4040-96eb-72e3b8b61311",
   "metadata": {},
   "outputs": [],
   "source": [
    "# import libraries\n",
    "\n",
    "from bs4 import BeautifulSoup\n",
    "import requests\n",
    "import time \n",
    "import datetime\n",
    "\n",
    "import smtplib  #send emails to yourself\n"
   ]
  },
  {
   "cell_type": "code",
   "execution_count": 127,
   "id": "943d418b-9887-4d56-b0e0-0c5e364d9db8",
   "metadata": {},
   "outputs": [
    {
     "name": "stdout",
     "output_type": "stream",
     "text": [
      "\n",
      "                    Data Analyst Definition Data Analysis Distressed T-Shirt\n",
      "                   \n",
      "$17.99\n"
     ]
    }
   ],
   "source": [
    "# Connect to website\n",
    "\n",
    "URL = 'https://www.amazon.com/Data-Analyst-Definition-Analysis-Distressed/dp/B0C1THH2KF/ref=sr_1_8?crid=1O1S8W68ZEIPV&dib=eyJ2IjoiMSJ9.dFU5a65AvLIpt8u9ptMu7OK9eAPTfupffVj1KKUEYrBgrd96bsAfVPwYthh1r16Hs9EfE_Dil8Q8PojdrhRuYo-bfBqz9OYrONNdZZPBAAbmSEFhb-aUOqqPT6lwz0Ckeqv3HEqJouFloOJDG1KUbwvj-X0v8M2bn6DfOSSYDcXWhSahIHlp_hBHLBdkW-gJ-_Yf6Ru9-8Tk-t2_Y6Oe3MC88EAlC55p2hvhiCVMXBFlVCsnEnP_hMf0bYX3jfASKFz5rFnwaCmSePyq31vJORDlAhInNwYGZpk1MDWQ_-U.4Ty1jq3R8REibY4nwNSNwqgBDfGUGmquBfMm_D-POjc&dib_tag=se&keywords=data+t+shirt&qid=1725627650&sprefix=data+t+shir%2Caps%2C165&sr=8-8'\n",
    "\n",
    "headers = {\"User-Agent\": \"Mozilla/5.0 (Windows NT 10.0; Win64; x64) AppleWebKit/537.36 (KHTML, like Gecko) Chrome/128.0.0.0 Safari/537.36\", \"Accept-Encoding\":\"gzip, deflate\", \"Accept\":\"text/html,application/xhtml+xml,application/xml;q=0.9,*/*;q=0.8\", \"DNT\":\"1\",\"Connection\":\"close\", \"Upgrade-Insecure-Requests\":\"1\"}\n",
    "\n",
    "page = requests.get(URL, headers=headers)\n",
    "\n",
    "soup1 = BeautifulSoup(page.content, \"html.parser\" )\n",
    "\n",
    "soup2 = BeautifulSoup(soup1.prettify(), \"html.parser\")\n",
    "\n",
    "title = soup2.find(id= 'productTitle').get_text()\n",
    "\n",
    "price = soup2.find(\"span\", class_=\"a-offscreen\").get_text().strip()\n",
    "\n",
    "print(title)\n",
    "print(price)\n",
    "\n"
   ]
  },
  {
   "cell_type": "code",
   "execution_count": 129,
   "id": "887edcf5-1887-4858-9672-6e41a7379f46",
   "metadata": {},
   "outputs": [
    {
     "name": "stdout",
     "output_type": "stream",
     "text": [
      "Data Analyst Definition Data Analysis Distressed T-Shirt\n",
      "17.99\n"
     ]
    }
   ],
   "source": [
    "#clean up the data a little bit\n",
    "\n",
    "price = price.strip()[1:]\n",
    "title = title.strip()\n",
    "\n",
    "print(title)\n",
    "print(price)\n"
   ]
  },
  {
   "cell_type": "code",
   "execution_count": 128,
   "id": "20105d12-2da0-484a-af6b-0a0f80a99893",
   "metadata": {},
   "outputs": [
    {
     "name": "stdout",
     "output_type": "stream",
     "text": [
      "2024-09-06\n"
     ]
    }
   ],
   "source": [
    "#Create a Timestamp for the output to track when data was collected\n",
    "\n",
    "import datetime\n",
    "\n",
    "today = datetime.date.today()\n",
    "\n",
    "print(today)"
   ]
  },
  {
   "cell_type": "code",
   "execution_count": 211,
   "id": "ab572b54-47d1-4ed8-8b7c-526628a78ff9",
   "metadata": {},
   "outputs": [],
   "source": [
    "#Create CSV and write headers and data into the file\n",
    "\n",
    "import csv\n",
    "\n",
    "header = ['Title', 'Price', 'Date']\n",
    "data = [title, price, today]\n",
    "\n",
    "with open('AmazonWebScraperDataset.csv', 'w', newline='', encoding = 'UTF8') as f:\n",
    "    writer = csv.writer(f)\n",
    "    writer.writerow(header)\n",
    "    writer.writerow(data)\n",
    "\n",
    "    "
   ]
  },
  {
   "cell_type": "code",
   "execution_count": 227,
   "id": "845a7de1-1093-4eda-8d93-45d14486a177",
   "metadata": {},
   "outputs": [
    {
     "name": "stdout",
     "output_type": "stream",
     "text": [
      "  Data Analyst Definition Data Analysis Distressed T-Shirt  $17.99  2024-09-06\n",
      "0  Data Analyst Definition Data Analysis Distress...        $17.99  2024-09-06\n",
      "1  Data Analyst Definition Data Analysis Distress...        $17.99  2024-09-06\n",
      "2  Data Analyst Definition Data Analysis Distress...        $17.99  2024-09-06\n",
      "3  Data Analyst Definition Data Analysis Distress...        $17.99  2024-09-06\n",
      "4  Data Analyst Definition Data Analysis Distress...        $17.99  2024-09-06\n",
      "5  Data Analyst Definition Data Analysis Distress...        $17.99  2024-09-06\n"
     ]
    }
   ],
   "source": [
    "import pandas as pd\n",
    "\n",
    "df = pd.read_csv(r'C:\\Users\\Fatima Al-Babily\\AmazonWebScraperDataset.csv')\n",
    "\n",
    "print(df)"
   ]
  },
  {
   "cell_type": "code",
   "execution_count": 229,
   "id": "a6349c39-f86f-42b0-be2b-7d01bb8ee737",
   "metadata": {},
   "outputs": [],
   "source": [
    "#Appending data to the csv\n",
    "\n",
    "with open('AmazonWebScraperDataset.csv', 'a+', newline='', encoding='UTF8') as f:\n",
    "    writer = csv.writer(f)\n",
    "    writer.writerow(data)"
   ]
  },
  {
   "cell_type": "code",
   "execution_count": 230,
   "id": "a5477946-e550-41e3-93a5-1f4248d147d9",
   "metadata": {},
   "outputs": [],
   "source": [
    "#Combine all of the above code into one function\n",
    "\n",
    "\n",
    "def check_price():\n",
    "    URL = 'https://www.amazon.com/Data-Analyst-Definition-Analysis-Distressed/dp/B0C1THH2KF/ref=sr_1_8?crid=1O1S8W68ZEIPV&dib=eyJ2IjoiMSJ9.dFU5a65AvLIpt8u9ptMu7OK9eAPTfupffVj1KKUEYrBgrd96bsAfVPwYthh1r16Hs9EfE_Dil8Q8PojdrhRuYo-bfBqz9OYrONNdZZPBAAbmSEFhb-aUOqqPT6lwz0Ckeqv3HEqJouFloOJDG1KUbwvj-X0v8M2bn6DfOSSYDcXWhSahIHlp_hBHLBdkW-gJ-_Yf6Ru9-8Tk-t2_Y6Oe3MC88EAlC55p2hvhiCVMXBFlVCsnEnP_hMf0bYX3jfASKFz5rFnwaCmSePyq31vJORDlAhInNwYGZpk1MDWQ_-U.4Ty1jq3R8REibY4nwNSNwqgBDfGUGmquBfMm_D-POjc&dib_tag=se&keywords=data+t+shirt&qid=1725627650&sprefix=data+t+shir%2Caps%2C165&sr=8-8'\n",
    "\n",
    "    headers = {\"User-Agent\": \"Mozilla/5.0 (Windows NT 10.0; Win64; x64) AppleWebKit/537.36 (KHTML, like Gecko) Chrome/128.0.0.0 Safari/537.36\", \"Accept-Encoding\":\"gzip, deflate\", \"Accept\":\"text/html,application/xhtml+xml,application/xml;q=0.9,*/*;q=0.8\", \"DNT\":\"1\",\"Connection\":\"close\", \"Upgrade-Insecure-Requests\":\"1\"}\n",
    "\n",
    "    page = requests.get(URL, headers=headers)\n",
    "\n",
    "    soup1 = BeautifulSoup(page.content, \"html.parser\" )\n",
    "\n",
    "    soup2 = BeautifulSoup(soup1.prettify(), \"html.parser\")\n",
    "\n",
    "    title = soup2.find(id= 'productTitle').get_text().strip()\n",
    "\n",
    "    price = soup2.find(\"span\", class_=\"a-offscreen\").get_text().strip()\n",
    "\n",
    "    import datetime\n",
    "\n",
    "    today = datetime.date.today()\n",
    "    \n",
    "    import csv \n",
    "\n",
    "    header = ['Title', 'Price', 'Date']\n",
    "    data = [title, price, today]\n",
    "\n",
    "    with open('AmazonWebScraperDataset.csv', 'a+', newline='', encoding='UTF8') as f:\n",
    "        writer = csv.writer(f)\n",
    "        writer.writerow(data)\n",
    "\n",
    "    if(price < 14):\n",
    "        send_mail()"
   ]
  },
  {
   "cell_type": "code",
   "execution_count": 231,
   "id": "3d85cd45-00ad-45f9-a040-28947a3505e5",
   "metadata": {},
   "outputs": [
    {
     "ename": "AttributeError",
     "evalue": "'NoneType' object has no attribute 'get_text'",
     "output_type": "error",
     "traceback": [
      "\u001b[1;31m---------------------------------------------------------------------------\u001b[0m",
      "\u001b[1;31mAttributeError\u001b[0m                            Traceback (most recent call last)",
      "Cell \u001b[1;32mIn[231], line 4\u001b[0m\n\u001b[0;32m      1\u001b[0m \u001b[38;5;66;03m# Runs check_price after a set time and inputs data into your CSV\u001b[39;00m\n\u001b[0;32m      3\u001b[0m \u001b[38;5;28;01mwhile\u001b[39;00m(\u001b[38;5;28;01mTrue\u001b[39;00m):\n\u001b[1;32m----> 4\u001b[0m     \u001b[43mcheck_price\u001b[49m\u001b[43m(\u001b[49m\u001b[43m)\u001b[49m\n\u001b[0;32m      5\u001b[0m     time\u001b[38;5;241m.\u001b[39msleep(\u001b[38;5;241m5\u001b[39m)\n",
      "Cell \u001b[1;32mIn[230], line 15\u001b[0m, in \u001b[0;36mcheck_price\u001b[1;34m()\u001b[0m\n\u001b[0;32m     11\u001b[0m soup1 \u001b[38;5;241m=\u001b[39m BeautifulSoup(page\u001b[38;5;241m.\u001b[39mcontent, \u001b[38;5;124m\"\u001b[39m\u001b[38;5;124mhtml.parser\u001b[39m\u001b[38;5;124m\"\u001b[39m )\n\u001b[0;32m     13\u001b[0m soup2 \u001b[38;5;241m=\u001b[39m BeautifulSoup(soup1\u001b[38;5;241m.\u001b[39mprettify(), \u001b[38;5;124m\"\u001b[39m\u001b[38;5;124mhtml.parser\u001b[39m\u001b[38;5;124m\"\u001b[39m)\n\u001b[1;32m---> 15\u001b[0m title \u001b[38;5;241m=\u001b[39m \u001b[43msoup2\u001b[49m\u001b[38;5;241;43m.\u001b[39;49m\u001b[43mfind\u001b[49m\u001b[43m(\u001b[49m\u001b[38;5;28;43mid\u001b[39;49m\u001b[38;5;241;43m=\u001b[39;49m\u001b[43m \u001b[49m\u001b[38;5;124;43m'\u001b[39;49m\u001b[38;5;124;43mproductTitle\u001b[39;49m\u001b[38;5;124;43m'\u001b[39;49m\u001b[43m)\u001b[49m\u001b[38;5;241;43m.\u001b[39;49m\u001b[43mget_text\u001b[49m()\u001b[38;5;241m.\u001b[39mstrip()\n\u001b[0;32m     17\u001b[0m price \u001b[38;5;241m=\u001b[39m soup2\u001b[38;5;241m.\u001b[39mfind(\u001b[38;5;124m\"\u001b[39m\u001b[38;5;124mspan\u001b[39m\u001b[38;5;124m\"\u001b[39m, class_\u001b[38;5;241m=\u001b[39m\u001b[38;5;124m\"\u001b[39m\u001b[38;5;124ma-offscreen\u001b[39m\u001b[38;5;124m\"\u001b[39m)\u001b[38;5;241m.\u001b[39mget_text()\u001b[38;5;241m.\u001b[39mstrip()\n\u001b[0;32m     19\u001b[0m \u001b[38;5;28;01mimport\u001b[39;00m \u001b[38;5;21;01mdatetime\u001b[39;00m\n",
      "\u001b[1;31mAttributeError\u001b[0m: 'NoneType' object has no attribute 'get_text'"
     ]
    }
   ],
   "source": [
    "# Runs check_price after a set time and inputs data into your CSV\n",
    "\n",
    "while(True):\n",
    "    check_price()\n",
    "    time.sleep(86400) #seconds in a day"
   ]
  },
  {
   "cell_type": "code",
   "execution_count": 232,
   "id": "abf6cecd-ebce-4ba5-a9a1-b199cad7b29a",
   "metadata": {},
   "outputs": [
    {
     "name": "stdout",
     "output_type": "stream",
     "text": [
      "  Data Analyst Definition Data Analysis Distressed T-Shirt  $17.99  2024-09-06\n",
      "0  Data Analyst Definition Data Analysis Distress...        $17.99  2024-09-06\n",
      "1  Data Analyst Definition Data Analysis Distress...        $17.99  2024-09-06\n",
      "2  Data Analyst Definition Data Analysis Distress...        $17.99  2024-09-06\n",
      "3  Data Analyst Definition Data Analysis Distress...        $17.99  2024-09-06\n",
      "4  Data Analyst Definition Data Analysis Distress...        $17.99  2024-09-06\n",
      "5  Data Analyst Definition Data Analysis Distress...        $17.99  2024-09-06\n"
     ]
    }
   ],
   "source": [
    "print(df)"
   ]
  },
  {
   "cell_type": "code",
   "execution_count": null,
   "id": "2e5ee8dd-c732-48f2-9b73-8e7fe8b81b03",
   "metadata": {},
   "outputs": [],
   "source": [
    "#send myself an email when the price hits below a certain level\n",
    "\n",
    "def send_mail():\n",
    "    server = smtplib.SMTP_SSL('smtp.gmail.com',465)\n",
    "    server.ehlo()\n",
    "    #server.starttls()\n",
    "    server.ehlo()\n",
    "    server.login('Albabilyfatima@gmail.com','xxxxxxxxxxxxxxxxxxx')\n",
    "    \n",
    "    subject = \"The Shirt you want is below $15! Now is your chance to buy!\"\n",
    "    body = \"Fatima, This is the moment we have been waiting for. Now is your chance to pick up the shirt of your dreams. Don't mess it up! Link here: https://www.amazon.com/Data-Analyst-Definition-Analysis-Distressed/dp/B0C1THH2KF/ref=sr_1_8?crid=1O1S8W68ZEIPV&dib=eyJ2IjoiMSJ9.dFU5a65AvLIpt8u9ptMu7OK9eAPTfupffVj1KKUEYrBgrd96bsAfVPwYthh1r16Hs9EfE_Dil8Q8PojdrhRuYo-bfBqz9OYrONNdZZPBAAbmSEFhb-aUOqqPT6lwz0Ckeqv3HEqJouFloOJDG1KUbwvj-X0v8M2bn6DfOSSYDcXWhSahIHlp_hBHLBdkW-gJ-_Yf6Ru9-8Tk-t2_Y6Oe3MC88EAlC55p2hvhiCVMXBFlVCsnEnP_hMf0bYX3jfASKFz5rFnwaCmSePyq31vJORDlAhInNwYGZpk1MDWQ_-U.4Ty1jq3R8REibY4nwNSNwqgBDfGUGmquBfMm_D-POjc&dib_tag=se&keywords=data+t+shirt&qid=1725627650&sprefix=data+t+shir%2Caps%2C165&sr=8-8 \"\n",
    "   \n",
    "    msg = f\"Subject: {subject}\\n\\n{body}\"\n",
    "    \n",
    "    server.sendmail(\n",
    "        'Albabilyfatima@gmail.com',\n",
    "        msg\n",
    "     \n",
    "    )"
   ]
  }
 ],
 "metadata": {
  "kernelspec": {
   "display_name": "Python 3 (ipykernel)",
   "language": "python",
   "name": "python3"
  },
  "language_info": {
   "codemirror_mode": {
    "name": "ipython",
    "version": 3
   },
   "file_extension": ".py",
   "mimetype": "text/x-python",
   "name": "python",
   "nbconvert_exporter": "python",
   "pygments_lexer": "ipython3",
   "version": "3.10.10"
  }
 },
 "nbformat": 4,
 "nbformat_minor": 5
}
